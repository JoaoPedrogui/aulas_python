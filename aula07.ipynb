{
 "cells": [
  {
   "cell_type": "markdown",
   "metadata": {},
   "source": [
    "# aula07\n",
    "**###### cabeçalho tamanho 6**\n",
    "1. primeiro item\n",
    "2. segundo item\n",
    "- item 1\n",
    "  - case\n",
    "- item 2\n",
    "   - cristiano\n",
    " - ronaldo\n",
    " - siiuuu\n",
    " \n",
    " - lista nao ordenada\n",
    "   - segundo\n",
    "\n",
    "[youtube] [https://www.youtube.com/?app=desktop&hl=pt]\n",
    "\n",
    "[impala 67] [https://www.google.com/url?sa=i&url=https%3A%2F%2Fvintageclassicos.com.br%2Fchevy-impala-1967-dean-winchester-serie-supernatural%2F&psig=AOvVaw0Fu5-RxO7JToWciy9ySqTq&ust=1725622835015000&source=images&cd=vfe&opi=89978449&ved=0CBIQjRxqFwoTCICu9_Lbq4gDFQAAAAAdAAAAABAE]\n",
    "\n"
   ]
  },
  {
   "cell_type": "code",
   "execution_count": 1,
   "metadata": {},
   "outputs": [
    {
     "name": "stdout",
     "output_type": "stream",
     "text": [
      "[1, 2, 3, 4, 5, 6, 7]\n"
     ]
    }
   ],
   "source": [
    "lista = [1,2,3,4,5,6,7]\n",
    "print(lista)\n",
    "lista.remove(2)"
   ]
  },
  {
   "cell_type": "code",
   "execution_count": 2,
   "metadata": {},
   "outputs": [
    {
     "name": "stdout",
     "output_type": "stream",
     "text": [
      "joao 16\n"
     ]
    }
   ],
   "source": [
    "nome = 'joao'\n",
    "idade = 16\n",
    "\n",
    "print(nome, idade)"
   ]
  },
  {
   "cell_type": "code",
   "execution_count": 10,
   "metadata": {},
   "outputs": [
    {
     "name": "stdout",
     "output_type": "stream",
     "text": [
      "1° joao\n",
      "2° lima\n",
      "3° guimaraes\n",
      "4° ronaldo\n"
     ]
    }
   ],
   "source": [
    "nome = ['joao', 'lima', 'guimaraes', 'ronaldo']\n",
    "\n",
    "for i, j in enumerate(nome):\n",
    "    print(f'{i+1}° {j}')"
   ]
  },
  {
   "cell_type": "code",
   "execution_count": 12,
   "metadata": {},
   "outputs": [
    {
     "name": "stdout",
     "output_type": "stream",
     "text": [
      "g\n",
      "u\n",
      "i\n",
      "m\n",
      "a\n",
      "r\n",
      "a\n",
      "e\n",
      "s\n"
     ]
    }
   ],
   "source": [
    "nome = 'guimaraes'\n",
    "\n",
    "for i in nome:\n",
    "    print(i)"
   ]
  },
  {
   "cell_type": "code",
   "execution_count": 21,
   "metadata": {},
   "outputs": [
    {
     "name": "stdout",
     "output_type": "stream",
     "text": [
      "0\n",
      "2\n",
      "4\n",
      "6\n",
      "8\n"
     ]
    }
   ],
   "source": [
    "for i in range(0, 10, + 2):\n",
    "    print(i)"
   ]
  },
  {
   "cell_type": "code",
   "execution_count": 29,
   "metadata": {},
   "outputs": [
    {
     "name": "stdout",
     "output_type": "stream",
     "text": [
      "0\n",
      "1\n",
      "2\n",
      "3\n",
      "4\n",
      "5\n",
      "6\n",
      "7\n",
      "8\n",
      "9\n",
      "10\n",
      "11\n",
      "12\n",
      "13\n",
      "14\n",
      "15\n",
      "16\n",
      "17\n",
      "18\n",
      "19\n",
      "20\n",
      "21\n",
      "22\n",
      "23\n",
      "24\n",
      "25\n",
      "26\n",
      "27\n",
      "28\n",
      "29\n",
      "30\n"
     ]
    }
   ],
   "source": [
    "inicio = int(input('Digite u numero onde comeca a contagem: '))\n",
    "fim = int(input('Digite o numero onde termina a contagem: '))\n",
    "\n",
    "for i in range(inicio, fim +1):\n",
    " print(i)"
   ]
  },
  {
   "cell_type": "code",
   "execution_count": 33,
   "metadata": {},
   "outputs": [
    {
     "name": "stdout",
     "output_type": "stream",
     "text": [
      "0\n",
      "2\n",
      "4\n",
      "6\n",
      "8\n",
      "10\n",
      "12\n",
      "14\n",
      "16\n",
      "18\n",
      "20\n"
     ]
    }
   ],
   "source": [
    "for i in range(0, 21):\n",
    "    if i % 2 == 0:\n",
    "        print(i)"
   ]
  },
  {
   "cell_type": "code",
   "execution_count": 34,
   "metadata": {},
   "outputs": [
    {
     "name": "stdout",
     "output_type": "stream",
     "text": [
      "1\n",
      "3\n",
      "5\n",
      "7\n",
      "9\n",
      "11\n",
      "13\n",
      "15\n",
      "17\n",
      "19\n"
     ]
    }
   ],
   "source": [
    "for i in range(0, 21):\n",
    "    if i % 2 != 0:\n",
    "        print(i)"
   ]
  },
  {
   "cell_type": "code",
   "execution_count": 41,
   "metadata": {},
   "outputs": [
    {
     "name": "stdout",
     "output_type": "stream",
     "text": [
      "9 X 1 = 9\n",
      "9 X 2 = 18\n",
      "9 X 3 = 27\n",
      "9 X 4 = 36\n",
      "9 X 5 = 45\n",
      "9 X 6 = 54\n",
      "9 X 7 = 63\n",
      "9 X 8 = 72\n",
      "9 X 9 = 81\n",
      "9 X 10 = 90\n"
     ]
    }
   ],
   "source": [
    "x = int(input('Digite o numero da tabuada: '))\n",
    "\n",
    "for num in range(1, 11):\n",
    "    print(f'{x} X {num} = {x * num}')"
   ]
  },
  {
   "cell_type": "code",
   "execution_count": 44,
   "metadata": {},
   "outputs": [
    {
     "name": "stdout",
     "output_type": "stream",
     "text": [
      "limao\n"
     ]
    }
   ],
   "source": [
    "lista = ['uva', 'melancia', 'abacate', 'limao', 'manga']\n",
    "\n",
    "for i in lista:\n",
    "    if i == 'limao':\n",
    "        print(i)\n",
    " "
   ]
  },
  {
   "cell_type": "code",
   "execution_count": 57,
   "metadata": {},
   "outputs": [
    {
     "name": "stdout",
     "output_type": "stream",
     "text": [
      "contando 10...\n",
      "contando 9...\n",
      "contando 8...\n",
      "contando 7...\n",
      "contando 6...\n",
      "contando 5...\n",
      "contando 4...\n",
      "contando 3...\n",
      "contando 2...\n",
      "contando 1...\n",
      "contando 0...\n",
      "Fim da contagem\n"
     ]
    }
   ],
   "source": [
    "from time import sleep\n",
    "import os\n",
    "\n",
    "x = int(input('Digite o  numero de segundos da contagem regressiva: '))\n",
    "\n",
    "for i in range(x, -1, -1):\n",
    "    print(f'contando {i}...')\n",
    "    sleep(1)\n",
    "    os.system('cls')\n",
    "\n",
    "print('Fim da contagem')"
   ]
  },
  {
   "cell_type": "code",
   "execution_count": 56,
   "metadata": {},
   "outputs": [
    {
     "name": "stdout",
     "output_type": "stream",
     "text": [
      "contando 10...\n",
      "contando 9...\n",
      "contando 8...\n",
      "contando 7...\n",
      "contando 6...\n",
      "contando 5...\n",
      "contando 4...\n",
      "contando 3...\n",
      "contando 2...\n",
      "contando 1...\n",
      "contando 0...\n",
      "Fim da contagem\n"
     ]
    }
   ],
   "source": [
    "from time import sleep\n",
    "import os\n",
    "\n",
    "x = int(input('Digite o  numero de segundos da contagem regressiva: '))\n",
    "\n",
    "for i in range(x, -1, -1):\n",
    "    os.system('cls')\n",
    "    print(f'contando {i}...')\n",
    "    sleep(1)\n",
    "\n",
    "print('Fim da contagem')"
   ]
  }
 ],
 "metadata": {
  "kernelspec": {
   "display_name": "venv",
   "language": "python",
   "name": "python3"
  },
  "language_info": {
   "codemirror_mode": {
    "name": "ipython",
    "version": 3
   },
   "file_extension": ".py",
   "mimetype": "text/x-python",
   "name": "python",
   "nbconvert_exporter": "python",
   "pygments_lexer": "ipython3",
   "version": "3.12.5"
  }
 },
 "nbformat": 4,
 "nbformat_minor": 2
}
